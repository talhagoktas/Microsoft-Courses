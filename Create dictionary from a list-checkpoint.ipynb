{
 "cells": [
  {
   "cell_type": "markdown",
   "metadata": {},
   "source": [
    "# In this notebook, we convert dictiniories from given lists\n",
    " "
   ]
  },
  {
   "cell_type": "code",
   "execution_count": 3,
   "metadata": {},
   "outputs": [
    {
     "data": {
      "text/plain": [
       "{'cheese': ['white', 'mozzarella']}"
      ]
     },
     "execution_count": 3,
     "metadata": {},
     "output_type": "execute_result"
    }
   ],
   "source": [
    "# We have list contains 2 lists. Each list has cheese item with one special type\n",
    "data = [('cheese', 'white'), ('cheese', 'mozzarella')]\n",
    "# Define an empty dictionary\n",
    "dic ={}\n",
    "#For each pair item in the list, we set common item cheese as default, then append other item \n",
    "for a,b in data:  \n",
    "    dic.setdefault(a, []).append(b)\n",
    "#Print new dictionary\n",
    "dic"
   ]
  },
  {
   "cell_type": "code",
   "execution_count": 6,
   "metadata": {},
   "outputs": [
    {
     "name": "stdout",
     "output_type": "stream",
     "text": [
      "{847502: ['APPLES 1LB', 1.99, 50], 847283: ['OLIVE OIL', 10.99, 100], 839529: ['TOMATOS 1LB', 1.29, 25], 483946: ['MILK 1/2G', 3.45, 35], 493402: ['FLOUR 5LB', 2.99, 40], 485034: ['BELL PEPPERS 1LB', 1.35, 28], 828391: ['WHITE TUNA', 1.69, 100], 449023: ['CHEESE 1/2LB', 4.99, 15]}\n"
     ]
    },
    {
     "data": {
      "text/plain": [
       "['APPLES 1LB', 1.99, 50]"
      ]
     },
     "execution_count": 6,
     "metadata": {},
     "output_type": "execute_result"
    }
   ],
   "source": [
    "# We have list contains more lists. First item in the lists stands for stock number, second item type of products\n",
    "# third item price per unit, fourth item for quantities\n",
    "# Our aim is to create a dictinoary where first item stock number key and others are values\n",
    "# By converting dictonary, \n",
    "\n",
    "# Main list contains all informations about products such as stock number, type of product, price for unit and quantities\n",
    "data = [[847502, \"APPLES 1LB\", 1.99, 50], [847283, \"OLIVE OIL\", 10.99, 100], [839529, \"TOMATOS 1LB\", 1.29, 25], [483946, \"MILK 1/2G\", 3.45, 35], [493402, \"FLOUR 5LB\", 2.99, 40], [485034, \"BELL PEPPERS 1LB\", 1.35, 28], [828391, \"WHITE TUNA\", 1.69, 100], [449023, \"CHEESE 1/2LB\", 4.99, 15]]\n",
    "\n",
    "# Define an empty dictionary\n",
    "dic={}\n",
    "\n",
    "# Set first item as key while others as values\n",
    "for number,product_name,price_unit,quantity in data :\n",
    "    dic.setdefault(number,[product_name,price_unit,quantity])\n",
    "\n",
    "#Print new dictionay\n",
    "print(dic)\n",
    "\n",
    "# We can call any stock number as a key and see informations practically\n",
    "dic[847502]"
   ]
  }
 ],
 "metadata": {
  "kernelspec": {
   "display_name": "Python 3",
   "language": "python",
   "name": "python3"
  },
  "language_info": {
   "codemirror_mode": {
    "name": "ipython",
    "version": 3
   },
   "file_extension": ".py",
   "mimetype": "text/x-python",
   "name": "python",
   "nbconvert_exporter": "python",
   "pygments_lexer": "ipython3",
   "version": "3.6.5"
  }
 },
 "nbformat": 4,
 "nbformat_minor": 2
}
