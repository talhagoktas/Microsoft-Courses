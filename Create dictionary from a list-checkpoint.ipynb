{
 "cells": [
  {
   "cell_type": "code",
   "execution_count": 5,
   "metadata": {},
   "outputs": [
    {
     "data": {
      "text/plain": [
       "{'wlp2s0': ['up', '1']}"
      ]
     },
     "execution_count": 5,
     "metadata": {},
     "output_type": "execute_result"
    }
   ],
   "source": [
    "data = [('wlp2s0', 'up'), ('wlp2s0', '1')]\n",
    "di ={}\n",
    "for a,b in data:  \n",
    "    di.setdefault(a, []).append(b)\n",
    "di"
   ]
  },
  {
   "cell_type": "code",
   "execution_count": 22,
   "metadata": {},
   "outputs": [
    {
     "name": "stdout",
     "output_type": "stream",
     "text": [
      "{847502: ['APPLES 1LB', 1.99, 50], 847283: ['OLIVE OIL', 10.99, 100], 839529: ['TOMATOS 1LB', 1.29, 25], 483946: ['MILK 1/2G', 3.45, 35], 493402: ['FLOUR 5LB', 2.99, 40], 485034: ['BELL PEPPERS 1LB', 1.35, 28], 828391: ['WHITE TUNA', 1.69, 100], 449023: ['CHEESE 1/2LB', 4.99, 15]}\n"
     ]
    }
   ],
   "source": [
    "data = [[847502, \"APPLES 1LB\", 1.99, 50], [847283, \"OLIVE OIL\", 10.99, 100], [839529, \"TOMATOS 1LB\", 1.29, 25], [483946, \"MILK 1/2G\", 3.45, 35], [493402, \"FLOUR 5LB\", 2.99, 40], [485034, \"BELL PEPPERS 1LB\", 1.35, 28], [828391, \"WHITE TUNA\", 1.69, 100], [449023, \"CHEESE 1/2LB\", 4.99, 15]]\n",
    "\n",
    "#TODO: Your code goes here\n",
    "dic={}\n",
    "for number,a,b,c in data :\n",
    "    dic.setdefault(number,[a,b,c])\n",
    "print(dic)"
   ]
  }
 ],
 "metadata": {
  "kernelspec": {
   "display_name": "Python 3",
   "language": "python",
   "name": "python3"
  },
  "language_info": {
   "codemirror_mode": {
    "name": "ipython",
    "version": 3
   },
   "file_extension": ".py",
   "mimetype": "text/x-python",
   "name": "python",
   "nbconvert_exporter": "python",
   "pygments_lexer": "ipython3",
   "version": "3.6.5"
  }
 },
 "nbformat": 4,
 "nbformat_minor": 2
}
