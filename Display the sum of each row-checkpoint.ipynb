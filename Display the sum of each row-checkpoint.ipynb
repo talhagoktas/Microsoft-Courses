{
 "cells": [
  {
   "cell_type": "code",
   "execution_count": 1,
   "metadata": {},
   "outputs": [
    {
     "name": "stdout",
     "output_type": "stream",
     "text": [
      "13\n",
      "23\n",
      "41\n",
      "59\n"
     ]
    }
   ],
   "source": [
    "# [ ] Write a program to display the sum of each row in table\n",
    "# 3.2.2 bölümünde verilen bir task. Aşağıdaki şekilde yaptığım zaman kümülatif topluyor. \n",
    "#Ben de çözümü bir sonraki hücrede göreceğin gibi çözdüm \n",
    "table = [[5, 2, 6], [4, 6, 0], [9, 1, 8], [7, 3, 8]]\n",
    "row_sum=0\n",
    "for i in table :\n",
    "    for col in i :\n",
    "        row_sum+=col\n",
    "    print(row_sum)\n",
    "    \n"
   ]
  },
  {
   "cell_type": "code",
   "execution_count": 2,
   "metadata": {},
   "outputs": [
    {
     "name": "stdout",
     "output_type": "stream",
     "text": [
      "13\n",
      "10\n",
      "18\n",
      "18\n"
     ]
    }
   ],
   "source": [
    "# [ ] Write a program to display the sum of each row in table\n",
    "table = [[5, 2, 6], [4, 6, 0], [9, 1, 8], [7, 3, 8]]\n",
    "row_sum=0\n",
    "for i in table :\n",
    "    for col in i :\n",
    "        row_sum+=col\n",
    "    print(row_sum)\n",
    "    row_sum=0\n"
   ]
  }
 ],
 "metadata": {
  "kernelspec": {
   "display_name": "Python 3",
   "language": "python",
   "name": "python3"
  },
  "language_info": {
   "codemirror_mode": {
    "name": "ipython",
    "version": 3
   },
   "file_extension": ".py",
   "mimetype": "text/x-python",
   "name": "python",
   "nbconvert_exporter": "python",
   "pygments_lexer": "ipython3",
   "version": "3.6.5"
  }
 },
 "nbformat": 4,
 "nbformat_minor": 2
}
