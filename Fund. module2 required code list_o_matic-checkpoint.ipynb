{
 "cells": [
  {
   "cell_type": "code",
   "execution_count": null,
   "metadata": {},
   "outputs": [],
   "source": [
    "\"\"\"\n",
    "Program: list-o-matic\n",
    "This program takes string input and checks if that string is in a list of strings\n",
    "\n",
    "if string is in the list it removes the first instance from list\n",
    "if string is not in the list the input gets appended to the list\n",
    "if the string is empty then the last item is popped from the list\n",
    "if the list becomes empty the program ends\n",
    "if the user enters \"quit\" then the program ends\n",
    "program has 2 parts\n",
    "\n",
    "program flow which can be modified to ask for a specific type of item. This is the programmers choice. Add a list of fish, trees, books, movies, songs.... your choice.\n",
    "list-o-matic Function which takes arguments of a string and a list. The function modifies the list and returns a message\n",
    "\"\"\""
   ]
  },
  {
   "cell_type": "code",
   "execution_count": 2,
   "metadata": {},
   "outputs": [
    {
     "name": "stdout",
     "output_type": "stream",
     "text": [
      "enter the name of animal: fly\n",
      "fly appended the list\n",
      "['cat', 'horse', 'dog', 'fly']\n"
     ]
    }
   ],
   "source": [
    "animal_list = ['cat','horse','dog']\n",
    "user_input = input(\"enter the name of animal: \")\n",
    "\n",
    "def list_o_matic():\n",
    "    if user_input ==\"\":\n",
    "        print(animal_list[-1],\"popped from the list\")\n",
    "        animal_list.pop()\n",
    "        print(animal_list)\n",
    "        return \n",
    "\n",
    "    elif user_input in animal_list :\n",
    "        print(user_input,\"removed from the list\")\n",
    "        animal_list.remove(user_input)\n",
    "        print(animal_list)\n",
    "        return \n",
    "    elif user_input not in animal_list :\n",
    "        print(user_input,\"appended the list\")\n",
    "        animal_list.append(user_input)\n",
    "        print(animal_list)\n",
    "        return \n",
    "    \n",
    "if animal_list ==\"\":\n",
    "     print(\"good bye!\")\n",
    "if user_input.lower()==\"quit\" :\n",
    "    print(\"good bye\")\n",
    "else:\n",
    "    list_o_matic()\n",
    "        \n",
    "\n"
   ]
  }
 ],
 "metadata": {
  "kernelspec": {
   "display_name": "Python 3",
   "language": "python",
   "name": "python3"
  },
  "language_info": {
   "codemirror_mode": {
    "name": "ipython",
    "version": 3
   },
   "file_extension": ".py",
   "mimetype": "text/x-python",
   "name": "python",
   "nbconvert_exporter": "python",
   "pygments_lexer": "ipython3",
   "version": "3.6.5"
  }
 },
 "nbformat": 4,
 "nbformat_minor": 2
}
