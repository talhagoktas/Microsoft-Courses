{
 "cells": [
  {
   "cell_type": "code",
   "execution_count": 1,
   "metadata": {},
   "outputs": [
    {
     "name": "stdout",
     "output_type": "stream",
     "text": [
      "7 | 8 | 9\n",
      "----------\n",
      "4 | 5 | 6\n",
      "----------\n",
      "1 | 2 | 3\n"
     ]
    }
   ],
   "source": [
    "def draw(board):\n",
    "    \"\"\"\n",
    "    Draw the `board` table.\n",
    "    \n",
    "    The board reflects the current state of the game, a number indicates an available location.\n",
    "      \n",
    "    args:\n",
    "        board: 3x3 table (list of lists) containing the current state of the game\n",
    "        \n",
    "    returns:\n",
    "        None\n",
    "        \n",
    "    examples:\n",
    "        At the beginning of the game: board = [['7', '8', '9'], ['4', '5', '6'], ['1', '2', '3']]\n",
    "        The printout should look like:\n",
    "\n",
    "         7 | 8 | 9 \n",
    "        -----------\n",
    "         4 | 5 | 6 \n",
    "        -----------\n",
    "         1 | 2 | 3 \n",
    "\n",
    "         After a few marks: board = [['7', '8', 'X'], ['O', 'O', '6'], ['1', 'X', '3']]\n",
    "         The printout should look like:\n",
    "         7 | 8 | X \n",
    "        -----------\n",
    "         O | O | 6 \n",
    "        -----------\n",
    "         1 | X | 3 \n",
    "    \"\"\"\n",
    "    #TODO\n",
    "    pass\n",
    "board = [['7', '8', '9'], ['4', '5', '6'], ['1', '2', '3']]\n",
    "iteration=1\n",
    "for row in board:\n",
    "    \n",
    "    print('{} | {} | {}'.format(row[0],row[1],row[2]))\n",
    "    if iteration !=3:\n",
    "        iteration += 1\n",
    "        print(10*\"-\")\n",
    "    else:\n",
    "        break\n"
   ]
  }
 ],
 "metadata": {
  "kernelspec": {
   "display_name": "Python 3",
   "language": "python",
   "name": "python3"
  },
  "language_info": {
   "codemirror_mode": {
    "name": "ipython",
    "version": 3
   },
   "file_extension": ".py",
   "mimetype": "text/x-python",
   "name": "python",
   "nbconvert_exporter": "python",
   "pygments_lexer": "ipython3",
   "version": "3.6.5"
  }
 },
 "nbformat": 4,
 "nbformat_minor": 2
}
